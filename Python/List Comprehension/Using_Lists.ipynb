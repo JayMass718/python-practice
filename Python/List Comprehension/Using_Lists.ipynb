{
 "cells": [
  {
   "cell_type": "code",
   "execution_count": 2,
   "metadata": {},
   "outputs": [
    {
     "name": "stdout",
     "output_type": "stream",
     "text": [
      "Ticket Prices:\n",
      "[5, 13, 15, 18, 29, 59, 105]\n",
      "-----------\n",
      "The lowest listing price is: $5\n",
      "The highest listing price is: $105\n"
     ]
    }
   ],
   "source": [
    "ticket_prices = [105, 18, 13, 15, 29, 59, 5]\n",
    "ticket_prices.sort()\n",
    "\n",
    "high_price = max(ticket_prices)\n",
    "low_price = min(ticket_prices)\n",
    "\n",
    "print(\"Ticket Prices:\")\n",
    "print(ticket_prices)\n",
    "print(\"-----------\")\n",
    "print(f\"The lowest listing price is: ${low_price}\")\n",
    "print(f\"The highest listing price is: ${high_price}\")"
   ]
  },
  {
   "cell_type": "code",
   "execution_count": 3,
   "metadata": {},
   "outputs": [
    {
     "name": "stdout",
     "output_type": "stream",
     "text": [
      "['Gardner', 'Judge', 'LeMathieu', 'Stanton', 'Volt']\n"
     ]
    }
   ],
   "source": [
    "yankee_players = [\"Judge\", \"LeMathieu\", \"Volt\", \"Stanton\", \"Gardner\"]\n",
    "yankee_players.sort()\n",
    "print(yankee_players)"
   ]
  },
  {
   "cell_type": "code",
   "execution_count": 4,
   "metadata": {},
   "outputs": [
    {
     "name": "stdout",
     "output_type": "stream",
     "text": [
      "Score\n",
      "-------\n",
      "Yankees: 6\n",
      "Red Sox: 4\n"
     ]
    }
   ],
   "source": [
    "homeTeam_inning_points = [0, 1, 2, 0, 2, 0, 1, 0, 0]\n",
    "awayTeam_inning_points = [0, 3, 0, 0, 0, 0, 0, 0, 1]\n",
    "\n",
    "total_home_points = sum(homeTeam_inning_points)\n",
    "total_away_points = sum(awayTeam_inning_points)\n",
    "\n",
    "print(\"Score\")\n",
    "print(\"-------\")\n",
    "print(f\"Yankees: {total_home_points}\")\n",
    "print(f\"Red Sox: {total_away_points}\")"
   ]
  },
  {
   "cell_type": "code",
   "execution_count": 5,
   "metadata": {},
   "outputs": [
    {
     "name": "stdout",
     "output_type": "stream",
     "text": [
      "Daily Total Sales\n",
      "-----------\n",
      "[4, 7, 12, 13, 14, 14, 20, 20, 22, 30, 40, 40, 50, 100]\n"
     ]
    }
   ],
   "source": [
    "concession_sales = [7, 4, 12, 20, 22, 13, 14]\n",
    "ticket_sales = [14, 40, 50, 20, 30, 40, 100]\n",
    "\n",
    "total_sales = concession_sales + ticket_sales\n",
    "total_sales.sort()\n",
    "\n",
    "print(\"Daily Total Sales\")\n",
    "print(\"-----------\")\n",
    "print(total_sales)"
   ]
  },
  {
   "cell_type": "code",
   "execution_count": 6,
   "metadata": {},
   "outputs": [
    {
     "name": "stdout",
     "output_type": "stream",
     "text": [
      "All Rise, He's Heating UP!\n",
      "---------\n",
      "*Judge's April Numbers*\n",
      "Hit Attempts: 14\n",
      "Homeruns: 5\n"
     ]
    }
   ],
   "source": [
    "judge_atBats = [\"strikeout\", \"hit\", \"strikeout\", \"hit\", \"strikeout\", \"homerun\", \n",
    "                \"strikeout\", \"stikeout\", \"fieldout\", \"homerun\", \n",
    "                \"homerun\", \"homerun\", \"strikeout\", \"homerun\"]\n",
    "\n",
    "judge_homeruns = judge_atBats.count(\"homerun\")\n",
    "judge_totalAtBats = len(judge_atBats)\n",
    "\n",
    "print(\"All Rise, He's Heating UP!\")\n",
    "print(\"---------\")\n",
    "print(\"*Judge's April Numbers*\")\n",
    "print(f\"Hit Attempts: {judge_totalAtBats}\")\n",
    "print(f\"Homeruns: {judge_homeruns}\")"
   ]
  },
  {
   "cell_type": "code",
   "execution_count": 7,
   "metadata": {},
   "outputs": [
    {
     "name": "stdout",
     "output_type": "stream",
     "text": [
      "True\n"
     ]
    }
   ],
   "source": [
    "has_homeruns = \"homerun\" in judge_atBats\n",
    "print(has_homeruns)"
   ]
  },
  {
   "cell_type": "code",
   "execution_count": null,
   "metadata": {},
   "outputs": [],
   "source": []
  }
 ],
 "metadata": {
  "kernelspec": {
   "display_name": "Python 3",
   "language": "python",
   "name": "python3"
  },
  "language_info": {
   "codemirror_mode": {
    "name": "ipython",
    "version": 3
   },
   "file_extension": ".py",
   "mimetype": "text/x-python",
   "name": "python",
   "nbconvert_exporter": "python",
   "pygments_lexer": "ipython3",
   "version": "3.7.4"
  }
 },
 "nbformat": 4,
 "nbformat_minor": 2
}

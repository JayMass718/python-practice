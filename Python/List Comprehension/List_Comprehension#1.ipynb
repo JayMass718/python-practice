{
 "cells": [
  {
   "cell_type": "code",
   "execution_count": 2,
   "metadata": {},
   "outputs": [
    {
     "name": "stdout",
     "output_type": "stream",
     "text": [
      "[7.0, 7.5, 7.5, 7.0, 6.0, 6.5, 8.0]\n"
     ]
    }
   ],
   "source": [
    "#long interation of a list instruction\n",
    "attack_hits = [14, 15, 15, 14, 12, 13, 16]\n",
    "\n",
    "halved = []\n",
    "for attack_hit in attack_hits:\n",
    "    half_attack = attack_hit/2\n",
    "    halved.append(half_attack)\n",
    "\n",
    "print(halved)"
   ]
  },
  {
   "cell_type": "code",
   "execution_count": 3,
   "metadata": {},
   "outputs": [
    {
     "name": "stdout",
     "output_type": "stream",
     "text": [
      "[7.0, 7.5, 7.5, 7.0, 6.0, 6.5, 8.0]\n"
     ]
    }
   ],
   "source": [
    "#List Comprehension\n",
    "attack_hits = [14, 15, 15, 14, 12, 13, 16]\n",
    "\n",
    "halved = [attack_hit/2 for attack_hit in attack_hits]\n",
    "\n",
    "print(halved)"
   ]
  },
  {
   "cell_type": "code",
   "execution_count": 4,
   "metadata": {},
   "outputs": [
    {
     "name": "stdout",
     "output_type": "stream",
     "text": [
      "[14, 15, 15, 14, 12, 13, 16]\n"
     ]
    }
   ],
   "source": [
    "#Repeat\n",
    "attack_hits = [14, 15, 15, 14, 12, 13, 16]\n",
    "\n",
    "hits_copy = [attack_hit for attack_hit in attack_hits]\n",
    "\n",
    "print(hits_copy)"
   ]
  },
  {
   "cell_type": "code",
   "execution_count": 5,
   "metadata": {},
   "outputs": [
    {
     "name": "stdout",
     "output_type": "stream",
     "text": [
      "['Mr. James', 'Mr. Dugue', 'Mr. Petite']\n"
     ]
    }
   ],
   "source": [
    "#Expression as a rule for list comprehension\n",
    "names = [\"James\", \"Dugue\", \"Petite\"]\n",
    "\n",
    "with_prefix = [\"Mr. \" + name for name in names]\n",
    "print(with_prefix)"
   ]
  },
  {
   "cell_type": "code",
   "execution_count": 6,
   "metadata": {},
   "outputs": [
    {
     "name": "stdout",
     "output_type": "stream",
     "text": [
      "[1, 1, 2]\n"
     ]
    }
   ],
   "source": [
    "#Count as a rule for list comprehension\n",
    "names = [\"James\", \"Dugue\", \"Petite\"]\n",
    "\n",
    "e_count = [name.count(\"e\") for name in names]\n",
    "print(e_count)"
   ]
  },
  {
   "cell_type": "code",
   "execution_count": 2,
   "metadata": {},
   "outputs": [
    {
     "name": "stdout",
     "output_type": "stream",
     "text": [
      "[25.0, 15.0, 22.5, 24.0, 15.0]\n"
     ]
    }
   ],
   "source": [
    "#applying functions to list comprehension\n",
    "scores = [50, 30, 45, 48, 30]\n",
    "\n",
    "def penalty(num):\n",
    "    return num/2\n",
    "\n",
    "penalty_scores = [penalty(score) for score in scores]\n",
    "print(penalty_scores)"
   ]
  },
  {
   "cell_type": "code",
   "execution_count": 5,
   "metadata": {},
   "outputs": [
    {
     "name": "stdout",
     "output_type": "stream",
     "text": [
      "['Clemson, Sam', 'Stratsky, Jason', 'Bush, Barabara']\n"
     ]
    }
   ],
   "source": [
    "names = [\"Sam Clemson\", \"Jason Stratsky\", \"Barabara Bush\"]\n",
    "\n",
    "def add_comma (name):\n",
    "    parts = name.split(\" \")\n",
    "    return parts[1] + \", \" + parts[0]\n",
    "    \n",
    "name_updates = [add_comma(name) for name in names]\n",
    "print(name_updates)"
   ]
  },
  {
   "cell_type": "code",
   "execution_count": 6,
   "metadata": {},
   "outputs": [
    {
     "name": "stdout",
     "output_type": "stream",
     "text": [
      "[5.75, 11.5, 13.8, 23.0]\n"
     ]
    }
   ],
   "source": [
    "# More Functions and Lists\n",
    "prices = [5, 10, 12, 20]\n",
    "\n",
    "def add_taxes(price):\n",
    "    vat = 0.15 * price\n",
    "    return vat + price\n",
    "\n",
    "tax_included = [add_taxes(price) for price in prices]\n",
    "print(tax_included)"
   ]
  },
  {
   "cell_type": "code",
   "execution_count": 10,
   "metadata": {},
   "outputs": [
    {
     "name": "stdout",
     "output_type": "stream",
     "text": [
      "[20]\n"
     ]
    }
   ],
   "source": [
    "# Using if statement to filter lists\n",
    "prices = [5, 10, 12, 20]\n",
    "\n",
    "#add a conditional\n",
    "high_prices = [price for price in prices if price > 15]\n",
    "print(high_prices)"
   ]
  },
  {
   "cell_type": "code",
   "execution_count": null,
   "metadata": {},
   "outputs": [],
   "source": []
  }
 ],
 "metadata": {
  "kernelspec": {
   "display_name": "Python 3",
   "language": "python",
   "name": "python3"
  },
  "language_info": {
   "codemirror_mode": {
    "name": "ipython",
    "version": 3
   },
   "file_extension": ".py",
   "mimetype": "text/x-python",
   "name": "python",
   "nbconvert_exporter": "python",
   "pygments_lexer": "ipython3",
   "version": "3.7.4"
  }
 },
 "nbformat": 4,
 "nbformat_minor": 2
}

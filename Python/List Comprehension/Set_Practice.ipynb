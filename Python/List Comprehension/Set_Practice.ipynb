{
 "cells": [
  {
   "cell_type": "code",
   "execution_count": 2,
   "metadata": {},
   "outputs": [
    {
     "name": "stdout",
     "output_type": "stream",
     "text": [
      "{'Maybe so?', 'No..', 'Yes!'}\n"
     ]
    }
   ],
   "source": [
    "# Using Sets\n",
    "answers = {\"Yes!\", \"No..\"}\n",
    "answers.add(\"Maybe so?\")\n",
    "print(answers)"
   ]
  },
  {
   "cell_type": "code",
   "execution_count": 3,
   "metadata": {},
   "outputs": [
    {
     "name": "stdout",
     "output_type": "stream",
     "text": [
      "True\n"
     ]
    }
   ],
   "source": [
    "options = {\"GO forward\", \"GO backward\", \"STOP\", \"Turn around and go back...\"}\n",
    "print(\"GO forward\" in options)"
   ]
  },
  {
   "cell_type": "code",
   "execution_count": 5,
   "metadata": {},
   "outputs": [
    {
     "name": "stdout",
     "output_type": "stream",
     "text": [
      "Option: GO forward\n",
      "Option: STOP\n",
      "Option: Turn around and go back...\n",
      "Option: GO backward\n"
     ]
    }
   ],
   "source": [
    "options = {\"GO forward\", \"GO backward\", \"STOP\", \"Turn around and go back...\"}\n",
    "\n",
    "for option in options:\n",
    "    print(f\"Option: {option}\")"
   ]
  },
  {
   "cell_type": "code",
   "execution_count": 9,
   "metadata": {},
   "outputs": [
    {
     "name": "stdout",
     "output_type": "stream",
     "text": [
      "{'Intro to Psychology 100', 'Calculus 100', 'Philosophy 101'}\n"
     ]
    }
   ],
   "source": [
    "fall_classes = {\"Acting 101\", \"Intro to Psychology 100\", \"Philosophy 101\", \"Calculus 100\"}\n",
    "\n",
    "# First check to see if element is in there to avoid error!\n",
    "if \"Acting 101\" in fall_classes:\n",
    "    fall_classes.remove(\"Acting 101\")\n",
    "\n",
    "print(fall_classes)"
   ]
  },
  {
   "cell_type": "code",
   "execution_count": 12,
   "metadata": {},
   "outputs": [
    {
     "name": "stdout",
     "output_type": "stream",
     "text": [
      "{'GTA5', 'RDR2', 'World of Warcraft', 'Fallout'}\n",
      "{'GTA5', 'RDR2', 'World of Warcraft', 'Fallout'}\n"
     ]
    }
   ],
   "source": [
    "#Eliminating list duplicates by converting it into a set!\n",
    "favorite_games = [\"GTA5\", \"RDR2\", \"GTA5\", \"World of Warcraft\", \"Fallout\"]\n",
    "\n",
    "print(set(favorite_games))\n",
    "\n",
    "#Stored set\n",
    "games_set = set(favorite_games)\n",
    "\n",
    "print(games_set)"
   ]
  },
  {
   "cell_type": "code",
   "execution_count": null,
   "metadata": {},
   "outputs": [],
   "source": [
    "#Set Operations"
   ]
  }
 ],
 "metadata": {
  "kernelspec": {
   "display_name": "Python 3",
   "language": "python",
   "name": "python3"
  },
  "language_info": {
   "codemirror_mode": {
    "name": "ipython",
    "version": 3
   },
   "file_extension": ".py",
   "mimetype": "text/x-python",
   "name": "python",
   "nbconvert_exporter": "python",
   "pygments_lexer": "ipython3",
   "version": "3.7.4"
  }
 },
 "nbformat": 4,
 "nbformat_minor": 2
}

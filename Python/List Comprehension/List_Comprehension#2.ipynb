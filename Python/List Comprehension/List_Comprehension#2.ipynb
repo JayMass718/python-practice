{
 "cells": [
  {
   "cell_type": "code",
   "execution_count": 1,
   "metadata": {},
   "outputs": [
    {
     "name": "stdout",
     "output_type": "stream",
     "text": [
      "Sam\n"
     ]
    }
   ],
   "source": [
    "# Negative indexing\n",
    "users = [\"Jim\", \"Tommy\", \"Tony\", \"Sam\"]\n",
    "last = users[-1]\n",
    "print(last)"
   ]
  },
  {
   "cell_type": "code",
   "execution_count": 2,
   "metadata": {},
   "outputs": [
    {
     "name": "stdout",
     "output_type": "stream",
     "text": [
      "['Jim', 'Tommy', 'Tony', \"Tony's Bro\"]\n"
     ]
    }
   ],
   "source": [
    "# Modification\n",
    "users[-1] = \"Tony's Bro\"\n",
    "print(users)"
   ]
  },
  {
   "cell_type": "code",
   "execution_count": 3,
   "metadata": {},
   "outputs": [
    {
     "name": "stdout",
     "output_type": "stream",
     "text": [
      "['Healer', 'Tank', 'DPS', 'DPS', 'DPS']\n"
     ]
    }
   ],
   "source": [
    "# Deleting items in a list\n",
    "dungeon_team = [\"Healer\", \"Tank\", \"Tank\", \"DPS\", \"DPS\", \"DPS\"]\n",
    "del dungeon_team[-4]\n",
    "print(dungeon_team)"
   ]
  },
  {
   "cell_type": "code",
   "execution_count": 4,
   "metadata": {},
   "outputs": [
    {
     "name": "stdout",
     "output_type": "stream",
     "text": [
      "{'name': 'Call of Duty', 'category': 'FPS', 'price': 49.99}\n"
     ]
    }
   ],
   "source": [
    "# Deleting unwanted key:value pairs from the dictionary\n",
    "\n",
    "video_game = {'name': 'Call of Duty',\n",
    "              'category': 'FPS',\n",
    "              'price': 49.99,\n",
    "              'online': True}\n",
    "\n",
    "del video_game['online']\n",
    "print(video_game)\n"
   ]
  },
  {
   "cell_type": "code",
   "execution_count": 5,
   "metadata": {},
   "outputs": [
    {
     "name": "stdout",
     "output_type": "stream",
     "text": [
      "Chris loves Grand Theft Auto. He's 28, so it's fine.\n"
     ]
    }
   ],
   "source": [
    "gamer = (\"Chris\", \"Grand Theft Auto\", 28)\n",
    "name = gamer[0]\n",
    "age = gamer[-1]\n",
    "favorite_game = gamer[-2]\n",
    "message = f\"{name} loves {favorite_game}. He's {age}, so it's fine.\"\n",
    "print(message)"
   ]
  },
  {
   "cell_type": "code",
   "execution_count": 7,
   "metadata": {},
   "outputs": [
    {
     "name": "stdout",
     "output_type": "stream",
     "text": [
      "Did you print a duplicate?\n"
     ]
    }
   ],
   "source": [
    "scores = [40, 30, 20, 10, 10]\n",
    "\n",
    "if scores[-1] == scores[-2]:\n",
    "    print(\"Did you print a duplicate?\")"
   ]
  },
  {
   "cell_type": "code",
   "execution_count": 18,
   "metadata": {},
   "outputs": [
    {
     "name": "stdout",
     "output_type": "stream",
     "text": [
      "You ordered too much. We removed the last two items on your list.\n"
     ]
    }
   ],
   "source": [
    "shopping_List = [\"Chicken\", \"Rice\", \"Fish\", \"Bacon\", \"Broccoli\",]\n",
    "\n",
    "if len(shopping_List) > 3:\n",
    "    del shopping_List[-1]\n",
    "    del shopping_List[-1]\n",
    "    print(\"You ordered too much. We removed the last two items on your list.\")"
   ]
  },
  {
   "cell_type": "code",
   "execution_count": 20,
   "metadata": {},
   "outputs": [
    {
     "name": "stdout",
     "output_type": "stream",
     "text": [
      "['Chicken']\n"
     ]
    }
   ],
   "source": [
    "#Slicing Notation\n",
    "print(shopping_List[0:1])"
   ]
  },
  {
   "cell_type": "code",
   "execution_count": 29,
   "metadata": {},
   "outputs": [
    {
     "name": "stdout",
     "output_type": "stream",
     "text": [
      "['Kyle', 'Fred']\n",
      "['Timmy', 'Fred', 'Charles']\n",
      "['Fred', 'Timmy']\n"
     ]
    }
   ],
   "source": [
    "#Slicing Notation cont.\n",
    "friends = [\"Tommy\", \"Kyle\", \"Charles\", \"Fred\", \"Timmy\"]\n",
    "\n",
    "print(friends[1:5:2])\n",
    "\n",
    "print(friends[5:1:-1])\n",
    "\n",
    "print(friends[-2:])"
   ]
  },
  {
   "cell_type": "code",
   "execution_count": null,
   "metadata": {},
   "outputs": [],
   "source": []
  }
 ],
 "metadata": {
  "kernelspec": {
   "display_name": "Python 3",
   "language": "python",
   "name": "python3"
  },
  "language_info": {
   "codemirror_mode": {
    "name": "ipython",
    "version": 3
   },
   "file_extension": ".py",
   "mimetype": "text/x-python",
   "name": "python",
   "nbconvert_exporter": "python",
   "pygments_lexer": "ipython3",
   "version": "3.7.4"
  }
 },
 "nbformat": 4,
 "nbformat_minor": 2
}

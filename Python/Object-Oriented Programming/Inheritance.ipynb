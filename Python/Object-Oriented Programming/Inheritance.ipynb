{
 "cells": [
  {
   "cell_type": "code",
   "execution_count": 1,
   "metadata": {},
   "outputs": [
    {
     "name": "stdout",
     "output_type": "stream",
     "text": [
      "green\n",
      "brown\n",
      "7\n"
     ]
    }
   ],
   "source": [
    "# Inheritance - Lets us create classes that have different properties and behaviors\n",
    "# without coding it from scratch\n",
    "\n",
    "class Parent:\n",
    "    def __init__(self):\n",
    "        self.eyes = \"green\"\n",
    "        self.hair = \"brown\"\n",
    "\n",
    "class Child(Parent):\n",
    "    def __init__(self):\n",
    "        super().__init__()\n",
    "        self.age = 7\n",
    "\n",
    "child = Child()\n",
    "parent = Parent()\n",
    "print(parent.eyes)\n",
    "print(child.hair)\n",
    "print(child.age)"
   ]
  },
  {
   "cell_type": "code",
   "execution_count": 11,
   "metadata": {},
   "outputs": [
    {
     "name": "stdout",
     "output_type": "stream",
     "text": [
      "I will defeat our enemies with powerful spells!\n",
      "------------------------------\n"
     ]
    }
   ],
   "source": [
    "# Game Characters and Inheritance\n",
    "\n",
    "class Player:\n",
    "    def ready(self):\n",
    "        print(\"Let's go on an adventure!\")\n",
    "        return \"------------------------------\"\n",
    "    \n",
    "\n",
    "class Warrior(Player):\n",
    "    def ready(self):\n",
    "        super.ready\n",
    "        return \"------------------------------\"\n",
    "        \n",
    "    def specialty(self):\n",
    "        print(\"I will protect you with my axe and shield!\")\n",
    "        return \"------------------------------\"\n",
    "    \n",
    "class Wizard(Player):\n",
    "    def ready(self):\n",
    "        super.ready\n",
    "        return \"------------------------------\"\n",
    "        \n",
    "    def specialty(self):\n",
    "        print(\"I will defeat our enemies with powerful spells!\")\n",
    "        return \"------------------------------\"\n",
    "\n",
    "player = Player()\n",
    "warrior = Warrior()\n",
    "wizard = Wizard()\n",
    "\n",
    "print(wizard.specialty())\n"
   ]
  },
  {
   "cell_type": "code",
   "execution_count": 57,
   "metadata": {},
   "outputs": [
    {
     "name": "stdout",
     "output_type": "stream",
     "text": [
      "Hi! I'm your lawyer, Jamal. My specialty is Civil Defense.\n",
      "-------------------\n",
      "Hi! I'm Taylor.\n",
      "Here's my info. I'm 23, and my race is asian.\n"
     ]
    },
    {
     "data": {
      "text/plain": [
       "'Can you help me?'"
      ]
     },
     "execution_count": 57,
     "metadata": {},
     "output_type": "execute_result"
    }
   ],
   "source": [
    "# Using Constructors with Inheritance.\n",
    "\n",
    "class Client:\n",
    "    def __init__(self, name, age, race):\n",
    "        self.name = name\n",
    "        self.age = age\n",
    "        self.race = race\n",
    "    \n",
    "    def greet(self):\n",
    "        print(f\"Hi! I'm {self.name}.\")\n",
    "        print(f\"Here's my info. I'm {self.age}, and my race is {self.race}.\")\n",
    "        return \"Can you help me?\"\n",
    "\n",
    "class Lawyer(Client):\n",
    "    def __init__(self, name, age, race, specialty):\n",
    "        super().__init__(\"your lawyer, \"+ name, age, race)\n",
    "        self.specialty = specialty\n",
    "        \n",
    "    def intro(self):\n",
    "        print(f\"Hi! I'm {self.name}. My specialty is {self.specialty}.\")\n",
    "\n",
    "client = Client(\"Taylor\", 23, \"asian\")\n",
    "lawyer = Lawyer(\"Jamal\", 33, \"black\", \"Civil Defense\")\n",
    "\n",
    "lawyer.intro()\n",
    "print(\"-------------------\")\n",
    "client.greet()"
   ]
  }
 ],
 "metadata": {
  "kernelspec": {
   "display_name": "Python 3",
   "language": "python",
   "name": "python3"
  },
  "language_info": {
   "codemirror_mode": {
    "name": "ipython",
    "version": 3
   },
   "file_extension": ".py",
   "mimetype": "text/x-python",
   "name": "python",
   "nbconvert_exporter": "python",
   "pygments_lexer": "ipython3",
   "version": "3.7.4"
  }
 },
 "nbformat": 4,
 "nbformat_minor": 2
}

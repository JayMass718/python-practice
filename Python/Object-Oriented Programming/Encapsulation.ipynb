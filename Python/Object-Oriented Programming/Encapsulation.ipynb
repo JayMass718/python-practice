{
 "cells": [
  {
   "cell_type": "code",
   "execution_count": 4,
   "metadata": {},
   "outputs": [
    {
     "name": "stdout",
     "output_type": "stream",
     "text": [
      "MoonUltra\n",
      "100\n"
     ]
    }
   ],
   "source": [
    "# Paradigms - different styles of coding\n",
    "# Functional Programming - primary usage of functions and variables, returning new values \n",
    "# to be used somewhere else in the code.\n",
    "\n",
    "#---------------------------------------------#\n",
    "\n",
    "# Object-oriented programming (OOP) uses group data and functionality as properties\n",
    "# and methods inside objects\n",
    "\n",
    "class Virtual_Gamer:\n",
    "    def __init__(self, user_name, gamer_rank):\n",
    "        self.user_name = user_name\n",
    "        self.gamer_rank = gamer_rank\n",
    "\n",
    "timms = Virtual_Gamer(\"MoonUltra\", 100)\n",
    "\n",
    "print(timms.user_name)\n",
    "print(timms.gamer_rank)"
   ]
  },
  {
   "cell_type": "code",
   "execution_count": 11,
   "metadata": {},
   "outputs": [
    {
     "name": "stdout",
     "output_type": "stream",
     "text": [
      "15000\n"
     ]
    }
   ],
   "source": [
    "# OOP is useful for modeling objects, real life or not.\n",
    "# Objects have properties and methods thatwe treat as one thing\n",
    "\n",
    "class Car:\n",
    "    mileage = 12000\n",
    "    \n",
    "    def drive(self, miles):\n",
    "        self.mileage += miles\n",
    "\n",
    "ford = Car()\n",
    "ford.drive(3000)\n",
    "print(ford.mileage)"
   ]
  },
  {
   "cell_type": "code",
   "execution_count": 12,
   "metadata": {},
   "outputs": [
    {
     "name": "stdout",
     "output_type": "stream",
     "text": [
      "False True\n"
     ]
    }
   ],
   "source": [
    "# Encapsulation - In OOP, when we group together related data and functions \n",
    "# in the same object\n",
    "\n",
    "class College_Kid:\n",
    "    hungry = True\n",
    "    studied = False\n",
    "    \n",
    "    def eat(self):\n",
    "        self.hungry = False\n",
    "    \n",
    "    def study(self):\n",
    "        self.studied = True\n",
    "\n",
    "jay = College_Kid()\n",
    "\n",
    "# Running the Functions for Jay\n",
    "jay.study()\n",
    "jay.eat()\n",
    "\n",
    "# Print the Results\n",
    "print(jay.hungry, jay.studied)"
   ]
  },
  {
   "cell_type": "code",
   "execution_count": null,
   "metadata": {},
   "outputs": [],
   "source": [
    "\n",
    "\n"
   ]
  }
 ],
 "metadata": {
  "kernelspec": {
   "display_name": "Python 3",
   "language": "python",
   "name": "python3"
  },
  "language_info": {
   "codemirror_mode": {
    "name": "ipython",
    "version": 3
   },
   "file_extension": ".py",
   "mimetype": "text/x-python",
   "name": "python",
   "nbconvert_exporter": "python",
   "pygments_lexer": "ipython3",
   "version": "3.7.4"
  }
 },
 "nbformat": 4,
 "nbformat_minor": 2
}

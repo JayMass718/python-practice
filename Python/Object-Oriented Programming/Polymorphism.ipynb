{
 "cells": [
  {
   "cell_type": "code",
   "execution_count": 17,
   "metadata": {},
   "outputs": [
    {
     "name": "stdout",
     "output_type": "stream",
     "text": [
      "Rendering file\n",
      "Rendering PDF file\n",
      "Rendering Microsoft Word file\n"
     ]
    }
   ],
   "source": [
    "# Polymorphism refers to an object's ability \n",
    "# to customiz their implementation of an inherited behavior\n",
    "\n",
    "class Document:\n",
    "    def display(self):\n",
    "        print('Rendering file')\n",
    "\n",
    "class PDF(Document):\n",
    "    def display(self):\n",
    "        print('Rendering PDF file')\n",
    "\n",
    "class MicrosoftWord(Document):\n",
    "    def display(self):\n",
    "        print('Rendering Microsoft Word file')\n",
    "\n",
    "doc1 = Document()\n",
    "doc2 = PDF()\n",
    "doc3 = MicrosoftWord()\n",
    "\n",
    "doc1.display()\n",
    "doc2.display()\n",
    "doc3.display()"
   ]
  },
  {
   "cell_type": "code",
   "execution_count": 18,
   "metadata": {},
   "outputs": [
    {
     "name": "stdout",
     "output_type": "stream",
     "text": [
      "*Waving*\n",
      "Hello!\n",
      "-----------\n",
      "*Waving*\n",
      "Howdy!\n"
     ]
    }
   ],
   "source": [
    "class Person:\n",
    "    def wave(self):\n",
    "        print('*Waving*')\n",
    "    \n",
    "    def greet(self):\n",
    "        print('Hello!')\n",
    "\n",
    "class Cowboy(Person):\n",
    "    def wave(self): \n",
    "        super().wave()\n",
    "    \n",
    "    def greet(self):\n",
    "        print('Howdy!')\n",
    "\n",
    "person = Person()\n",
    "cowboy = Cowboy()\n",
    "\n",
    "person.wave()\n",
    "person.greet()\n",
    "print(\"-----------\")\n",
    "cowboy.wave()\n",
    "cowboy.greet()"
   ]
  },
  {
   "cell_type": "code",
   "execution_count": null,
   "metadata": {},
   "outputs": [],
   "source": []
  }
 ],
 "metadata": {
  "kernelspec": {
   "display_name": "Python 3",
   "language": "python",
   "name": "python3"
  },
  "language_info": {
   "codemirror_mode": {
    "name": "ipython",
    "version": 3
   },
   "file_extension": ".py",
   "mimetype": "text/x-python",
   "name": "python",
   "nbconvert_exporter": "python",
   "pygments_lexer": "ipython3",
   "version": "3.7.4"
  }
 },
 "nbformat": 4,
 "nbformat_minor": 2
}

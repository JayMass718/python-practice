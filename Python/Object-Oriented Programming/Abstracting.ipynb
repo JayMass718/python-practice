{
 "cells": [
  {
   "cell_type": "code",
   "execution_count": 6,
   "metadata": {},
   "outputs": [
    {
     "name": "stdout",
     "output_type": "stream",
     "text": [
      "Heating water...\n",
      "Adding water to grounds...\n",
      "filtering coffee\n"
     ]
    }
   ],
   "source": [
    "# Abstraction is simplyfying how we interact with objects, down to a few methods.\n",
    "# To implement, write a few core methods that handle low-level functions.\n",
    "# We do this so that others can use a class without knowing how it works.\n",
    "# the benefit - fewer bugs caused by user error\n",
    "\n",
    "class Coffeemaker:\n",
    "    def heatWater(self):\n",
    "        print('Heating water...')\n",
    "    \n",
    "    def brew(self):\n",
    "        print('Adding water to grounds...')\n",
    "        \n",
    "    def filterCoffee(self):\n",
    "        print('filtering coffee')\n",
    "    \n",
    "    def makeCoffee(self):\n",
    "        self.heatWater()\n",
    "        self.brew()\n",
    "        self.filterCoffee()\n",
    "    \n",
    "coffeMaker = Coffeemaker()\n",
    "coffeMaker.makeCoffee()"
   ]
  },
  {
   "cell_type": "code",
   "execution_count": 10,
   "metadata": {},
   "outputs": [
    {
     "name": "stdout",
     "output_type": "stream",
     "text": [
      "Tank charges forward to engage the enemy.\n",
      "Melee DPS flanks behind for maximum damage.\n",
      "Support helps the team while staying safe.\n"
     ]
    }
   ],
   "source": [
    "class groupAttack:\n",
    "    def tankPosition(self):\n",
    "        print('Tank charges forward to engage the enemy.')\n",
    "    \n",
    "    def meleeDPSPosition(self):\n",
    "        print('Melee DPS flanks behind for maximum damage.')\n",
    "        \n",
    "    def supportPosition(self):\n",
    "        print('Support helps the team while staying safe.')\n",
    "        \n",
    "    def positioningTeam(self):\n",
    "        self.tankPosition()\n",
    "        self.meleeDPSPosition()\n",
    "        self.supportPosition()\n",
    "\n",
    "Groupattack = groupAttack()\n",
    "Groupattack.positioningTeam()"
   ]
  },
  {
   "cell_type": "code",
   "execution_count": 13,
   "metadata": {},
   "outputs": [
    {
     "name": "stdout",
     "output_type": "stream",
     "text": [
      "Slide 1\n",
      "Slide 2\n",
      "Slide 3\n",
      "Slide 4\n",
      "Slide 5\n"
     ]
    }
   ],
   "source": [
    "# Example of using more complex methods to create an action while abstracting\n",
    "\n",
    "class Slideshow:\n",
    "    def __init__(self, slides):\n",
    "        self.slides = slides\n",
    "        self.current = 1\n",
    "    \n",
    "    def viewNextSlide(self):\n",
    "        self.current += 1\n",
    "    \n",
    "    def play(self):\n",
    "        while (self.current <= self.slides):\n",
    "            print('Slide', self.current)\n",
    "            self.viewNextSlide()\n",
    "\n",
    "slideshow = Slideshow(5)\n",
    "slideshow.play()"
   ]
  },
  {
   "cell_type": "code",
   "execution_count": null,
   "metadata": {},
   "outputs": [],
   "source": []
  }
 ],
 "metadata": {
  "kernelspec": {
   "display_name": "Python 3",
   "language": "python",
   "name": "python3"
  },
  "language_info": {
   "codemirror_mode": {
    "name": "ipython",
    "version": 3
   },
   "file_extension": ".py",
   "mimetype": "text/x-python",
   "name": "python",
   "nbconvert_exporter": "python",
   "pygments_lexer": "ipython3",
   "version": "3.7.4"
  }
 },
 "nbformat": 4,
 "nbformat_minor": 2
}

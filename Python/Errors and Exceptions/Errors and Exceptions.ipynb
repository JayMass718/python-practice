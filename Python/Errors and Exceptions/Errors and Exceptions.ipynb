{
 "cells": [
  {
   "cell_type": "code",
   "execution_count": 1,
   "metadata": {},
   "outputs": [],
   "source": [
    "#Some basic error message types\n",
    "#------------------------------------------#\n",
    "\n",
    "#LogicIssues#\n",
    "# SyntaxError - when Python is unable to understand your code \n",
    "# IndentationError - Incorrect or missing indentation\n",
    "\n",
    "#Exceptions#\n",
    "# ZeroDivisionError - Can't divide by zero\n",
    "# NameError - Can't find the variable\n",
    "# TypeError - Wrong type used\n",
    "# ModuleNotFoundError - Python can't find the module\n",
    "# IndexError - if an index is out of range"
   ]
  },
  {
   "cell_type": "code",
   "execution_count": 2,
   "metadata": {},
   "outputs": [
    {
     "ename": "Exception",
     "evalue": "Incorrect seating arrangement",
     "output_type": "error",
     "traceback": [
      "\u001b[0;31m---------------------------------------------------------------------------\u001b[0m",
      "\u001b[0;31mException\u001b[0m                                 Traceback (most recent call last)",
      "\u001b[0;32m<ipython-input-2-08d3bd3fa2e7>\u001b[0m in \u001b[0;36m<module>\u001b[0;34m\u001b[0m\n\u001b[1;32m      5\u001b[0m \u001b[0;34m\u001b[0m\u001b[0m\n\u001b[1;32m      6\u001b[0m \u001b[0;32mif\u001b[0m \u001b[0mdiners\u001b[0m \u001b[0;34m!=\u001b[0m \u001b[0mseats\u001b[0m\u001b[0;34m:\u001b[0m\u001b[0;34m\u001b[0m\u001b[0;34m\u001b[0m\u001b[0m\n\u001b[0;32m----> 7\u001b[0;31m     \u001b[0;32mraise\u001b[0m \u001b[0mException\u001b[0m\u001b[0;34m(\u001b[0m\u001b[0;34m\"Incorrect seating arrangement\"\u001b[0m\u001b[0;34m)\u001b[0m\u001b[0;34m\u001b[0m\u001b[0;34m\u001b[0m\u001b[0m\n\u001b[0m\u001b[1;32m      8\u001b[0m \u001b[0;34m\u001b[0m\u001b[0m\n\u001b[1;32m      9\u001b[0m \u001b[0;32melse\u001b[0m\u001b[0;34m:\u001b[0m\u001b[0;34m\u001b[0m\u001b[0;34m\u001b[0m\u001b[0m\n",
      "\u001b[0;31mException\u001b[0m: Incorrect seating arrangement"
     ]
    }
   ],
   "source": [
    "#Sometimes we want to RAISE an exception when a condition you have defined is not met\n",
    "\n",
    "seats = 4\n",
    "diners = 5\n",
    "\n",
    "if diners != seats:\n",
    "    raise Exception(\"Incorrect seating arrangement\")\n",
    "    \n",
    "else:\n",
    "    table_ready = True"
   ]
  },
  {
   "cell_type": "code",
   "execution_count": 6,
   "metadata": {},
   "outputs": [
    {
     "ename": "ValueError",
     "evalue": "age cannot be negative",
     "output_type": "error",
     "traceback": [
      "\u001b[0;31m---------------------------------------------------------------------------\u001b[0m",
      "\u001b[0;31mValueError\u001b[0m                                Traceback (most recent call last)",
      "\u001b[0;32m<ipython-input-6-f5cae48617f0>\u001b[0m in \u001b[0;36m<module>\u001b[0;34m\u001b[0m\n\u001b[1;32m      3\u001b[0m \u001b[0mage\u001b[0m \u001b[0;34m=\u001b[0m \u001b[0;34m-\u001b[0m\u001b[0;36m3\u001b[0m\u001b[0;34m\u001b[0m\u001b[0;34m\u001b[0m\u001b[0m\n\u001b[1;32m      4\u001b[0m \u001b[0;32mif\u001b[0m \u001b[0;32mnot\u001b[0m \u001b[0mage\u001b[0m \u001b[0;34m>=\u001b[0m \u001b[0;36m0\u001b[0m\u001b[0;34m:\u001b[0m\u001b[0;34m\u001b[0m\u001b[0;34m\u001b[0m\u001b[0m\n\u001b[0;32m----> 5\u001b[0;31m     \u001b[0;32mraise\u001b[0m \u001b[0mValueError\u001b[0m\u001b[0;34m(\u001b[0m\u001b[0;34m'age cannot be negative'\u001b[0m\u001b[0;34m)\u001b[0m\u001b[0;34m\u001b[0m\u001b[0;34m\u001b[0m\u001b[0m\n\u001b[0m",
      "\u001b[0;31mValueError\u001b[0m: age cannot be negative"
     ]
    }
   ],
   "source": [
    "# You can also define both the kind of error, and the error message\n",
    "\n",
    "age = -3\n",
    "if not age >= 0:\n",
    "    raise ValueError('age cannot be negative')"
   ]
  },
  {
   "cell_type": "code",
   "execution_count": 55,
   "metadata": {},
   "outputs": [
    {
     "name": "stdout",
     "output_type": "stream",
     "text": [
      "User not known. Please try again.\n"
     ]
    }
   ],
   "source": [
    "# You often don;t want a program to terminate when an exception is encountered\n",
    "# Exception handling is when you use a try and except block for cases like this\n",
    "\n",
    "try:\n",
    "    login(user)\n",
    "except:\n",
    "    print('User not known. Please try again.')"
   ]
  },
  {
   "cell_type": "code",
   "execution_count": 16,
   "metadata": {},
   "outputs": [],
   "source": [
    "# Use pass in the except arguement if you want nothing to be executed\n",
    "\n",
    "try:\n",
    "    print(\"Hello, \" + user)\n",
    "except:\n",
    "    pass"
   ]
  },
  {
   "cell_type": "code",
   "execution_count": 54,
   "metadata": {},
   "outputs": [
    {
     "name": "stdout",
     "output_type": "stream",
     "text": [
      "44.0\n"
     ]
    }
   ],
   "source": [
    "# Use an else statement at the end if you want to execute some code\n",
    "# when an error hasn't been raised\n",
    "\n",
    "cost = 40\n",
    "\n",
    "try:\n",
    "    dollars = cost * 1.5\n",
    "except:\n",
    "    raise Exception(\"calculation not possible\")\n",
    "else:\n",
    "    euros = cost * 1.1\n",
    "    print(euros)\n",
    "\n"
   ]
  },
  {
   "cell_type": "code",
   "execution_count": 61,
   "metadata": {},
   "outputs": [
    {
     "name": "stdout",
     "output_type": "stream",
     "text": [
      "75.0\n",
      "Try another value?\n"
     ]
    }
   ],
   "source": [
    "# A \"finally\" statement can be used at the end of a try and except block,\n",
    "# to execute code whether or not an exception occurred\n",
    "\n",
    "entry = 50\n",
    "\n",
    "try:\n",
    "    result = entry * 1.5\n",
    "except:\n",
    "    raise ValueError(\"result cannot be calculated\")\n",
    "else:\n",
    "    print(result)\n",
    "finally:\n",
    "    print(\"Try another value?\")"
   ]
  },
  {
   "cell_type": "code",
   "execution_count": null,
   "metadata": {},
   "outputs": [],
   "source": []
  }
 ],
 "metadata": {
  "kernelspec": {
   "display_name": "Python 3",
   "language": "python",
   "name": "python3"
  },
  "language_info": {
   "codemirror_mode": {
    "name": "ipython",
    "version": 3
   },
   "file_extension": ".py",
   "mimetype": "text/x-python",
   "name": "python",
   "nbconvert_exporter": "python",
   "pygments_lexer": "ipython3",
   "version": "3.7.4"
  }
 },
 "nbformat": 4,
 "nbformat_minor": 2
}

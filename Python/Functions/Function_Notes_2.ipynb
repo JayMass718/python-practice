{
 "cells": [
  {
   "cell_type": "code",
   "execution_count": 2,
   "metadata": {},
   "outputs": [
    {
     "name": "stdout",
     "output_type": "stream",
     "text": [
      "Our Protein:\n",
      "------------\n",
      "['Chicken', 'Steak', 'Fish', 'Vegan Meat']\n"
     ]
    }
   ],
   "source": [
    "def display_inventory(protein):\n",
    "    print(\"Our Protein:\")\n",
    "    print(\"------------\")\n",
    "    print(protein)\n",
    "\n",
    "protein_list = [\"Chicken\", \"Steak\", \"Fish\", \"Vegan Meat\"]\n",
    "display_inventory(protein_list)"
   ]
  },
  {
   "cell_type": "code",
   "execution_count": 4,
   "metadata": {},
   "outputs": [
    {
     "name": "stdout",
     "output_type": "stream",
     "text": [
      "5\n"
     ]
    }
   ],
   "source": [
    "def count_customers(customers):\n",
    "    print(len(customers))\n",
    "\n",
    "customers = [\"Sarah\", \"Jason\", \"Little Richie\", \"Samson\", \"David Kim\"]\n",
    "count_customers(customers)"
   ]
  },
  {
   "cell_type": "code",
   "execution_count": 9,
   "metadata": {},
   "outputs": [
    {
     "name": "stdout",
     "output_type": "stream",
     "text": [
      "Are there rooms available?\n",
      "----------------------\n",
      "No, sorry...\n"
     ]
    }
   ],
   "source": [
    "#I like this function! Checks to see if rooms are available at motel...\n",
    "\n",
    "def is_vacant(occupied_list):\n",
    "    print(\"Are there rooms available?\")\n",
    "    print(\"----------------------\")\n",
    "    if (len(occupied_list) < 6):\n",
    "        print(\"Yes!\")\n",
    "    else:\n",
    "        print(\"No, sorry...\")\n",
    "\n",
    "occupied_list = [\"Richard\", \"Papa\", \"Samson\", \"Cory\", \"Fats\", \"Kimmy\"]\n",
    "is_vacant(occupied_list)"
   ]
  },
  {
   "cell_type": "code",
   "execution_count": 10,
   "metadata": {},
   "outputs": [
    {
     "name": "stdout",
     "output_type": "stream",
     "text": [
      "Game winner: Jake\n"
     ]
    }
   ],
   "source": [
    "def get_first(gamers):\n",
    "    winner = gamers[0]\n",
    "    print(f\"Game winner: {winner}\")\n",
    "\n",
    "gamers = [\"Jake\", \"Larry\", \"Patrick\"]\n",
    "get_first(gamers)"
   ]
  },
  {
   "cell_type": "code",
   "execution_count": 16,
   "metadata": {},
   "outputs": [
    {
     "name": "stdout",
     "output_type": "stream",
     "text": [
      "Scoreboard Update! New Leader: Big Man\n"
     ]
    },
    {
     "data": {
      "text/plain": [
       "\"Scoreboard: ['Big Man', 'Sammy', 'Jerk', 'Little']\""
      ]
     },
     "execution_count": 16,
     "metadata": {},
     "output_type": "execute_result"
    }
   ],
   "source": [
    "def update_leader(leaderboard, new_leader):\n",
    "    print(f\"Scoreboard Update! New Leader: {new_leader}\")\n",
    "    leaderboard[0] = new_leader\n",
    "    return f\"Scoreboard: {leaderboard}\"\n",
    "\n",
    "leaderboard = [\"Kid\", \"Sammy\", \"Jerk\", \"Little\"]\n",
    "new_leader = \"Big Man\"\n",
    "update_leader(leaderboard, new_leader)\n"
   ]
  },
  {
   "cell_type": "code",
   "execution_count": null,
   "metadata": {},
   "outputs": [],
   "source": []
  }
 ],
 "metadata": {
  "kernelspec": {
   "display_name": "Python 3",
   "language": "python",
   "name": "python3"
  },
  "language_info": {
   "codemirror_mode": {
    "name": "ipython",
    "version": 3
   },
   "file_extension": ".py",
   "mimetype": "text/x-python",
   "name": "python",
   "nbconvert_exporter": "python",
   "pygments_lexer": "ipython3",
   "version": "3.7.4"
  }
 },
 "nbformat": 4,
 "nbformat_minor": 2
}

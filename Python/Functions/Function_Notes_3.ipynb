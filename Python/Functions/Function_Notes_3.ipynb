{
 "cells": [
  {
   "cell_type": "code",
   "execution_count": 7,
   "metadata": {},
   "outputs": [
    {
     "name": "stdout",
     "output_type": "stream",
     "text": [
      "Sup bruh!\n",
      "ima head out.\n"
     ]
    }
   ],
   "source": [
    "def hello_dood():\n",
    "    print(\"Sup bruh!\")\n",
    "    print(\"ima head out.\")\n",
    "hello_dood()"
   ]
  },
  {
   "cell_type": "code",
   "execution_count": 17,
   "metadata": {},
   "outputs": [
    {
     "name": "stdout",
     "output_type": "stream",
     "text": [
      "Play your instrument, asshole!\n"
     ]
    }
   ],
   "source": [
    "def band_demand():\n",
    "    name = \"asshole\"\n",
    "    print(f\"Play your instrument, {name}!\");\n",
    "band_demand()"
   ]
  },
  {
   "cell_type": "code",
   "execution_count": 16,
   "metadata": {},
   "outputs": [
    {
     "name": "stdout",
     "output_type": "stream",
     "text": [
      "Play your instrument, fuckhead!\n"
     ]
    }
   ],
   "source": [
    "def band_demand(musician):\n",
    "    print(f\"Play your instrument, {musician}!\");\n",
    "band_demand(\"fuckhead\")"
   ]
  },
  {
   "cell_type": "code",
   "execution_count": 21,
   "metadata": {},
   "outputs": [
    {
     "name": "stdout",
     "output_type": "stream",
     "text": [
      "10\n"
     ]
    }
   ],
   "source": [
    "def double_number(number):\n",
    "    result = number * 2\n",
    "    print (result);\n",
    "    \n",
    "double_number(5)"
   ]
  },
  {
   "cell_type": "code",
   "execution_count": 22,
   "metadata": {},
   "outputs": [
    {
     "name": "stdout",
     "output_type": "stream",
     "text": [
      "False\n"
     ]
    }
   ],
   "source": [
    "def drinking_age(age):\n",
    "    legal_age = 21\n",
    "    print(age >= legal_age);\n",
    "\n",
    "drinking_age(18)"
   ]
  },
  {
   "cell_type": "code",
   "execution_count": 30,
   "metadata": {},
   "outputs": [
    {
     "name": "stdout",
     "output_type": "stream",
     "text": [
      "10\n"
     ]
    }
   ],
   "source": [
    "def giveMeTen():\n",
    "    return 10\n",
    "\n",
    "print(giveMeTen())"
   ]
  },
  {
   "cell_type": "code",
   "execution_count": null,
   "metadata": {},
   "outputs": [],
   "source": []
  }
 ],
 "metadata": {
  "kernelspec": {
   "display_name": "Python 3",
   "language": "python",
   "name": "python3"
  },
  "language_info": {
   "codemirror_mode": {
    "name": "ipython",
    "version": 3
   },
   "file_extension": ".py",
   "mimetype": "text/x-python",
   "name": "python",
   "nbconvert_exporter": "python",
   "pygments_lexer": "ipython3",
   "version": "3.7.4"
  }
 },
 "nbformat": 4,
 "nbformat_minor": 2
}

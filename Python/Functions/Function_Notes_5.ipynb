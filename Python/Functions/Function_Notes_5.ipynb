{
 "cells": [
  {
   "cell_type": "code",
   "execution_count": 35,
   "metadata": {},
   "outputs": [
    {
     "name": "stdout",
     "output_type": "stream",
     "text": [
      "Sup bruh!\n",
      "ima head out.\n"
     ]
    }
   ],
   "source": [
    "def greet_dood():\n",
    "    print(\"Sup bruh!\")\n",
    "    print(\"ima head out.\")\n",
    "greet_dood()"
   ]
  },
  {
   "cell_type": "code",
   "execution_count": 36,
   "metadata": {},
   "outputs": [
    {
     "name": "stdout",
     "output_type": "stream",
     "text": [
      "Play your instrument, asshole!\n"
     ]
    }
   ],
   "source": [
    "def demand_musician():\n",
    "    name = \"asshole\"\n",
    "    print(f\"Play your instrument, {name}!\");\n",
    "demand_musician()"
   ]
  },
  {
   "cell_type": "code",
   "execution_count": 37,
   "metadata": {},
   "outputs": [
    {
     "name": "stdout",
     "output_type": "stream",
     "text": [
      "Play your instrument, fuckhead!\n"
     ]
    }
   ],
   "source": [
    "def demand_musician(musician):\n",
    "    print(f\"Play your instrument, {musician}!\");\n",
    "demand_musician(\"fuckhead\")"
   ]
  },
  {
   "cell_type": "code",
   "execution_count": 38,
   "metadata": {},
   "outputs": [
    {
     "name": "stdout",
     "output_type": "stream",
     "text": [
      "10\n"
     ]
    }
   ],
   "source": [
    "def double_number(number):\n",
    "    result = number * 2\n",
    "    print (result);\n",
    "    \n",
    "double_number(5)"
   ]
  },
  {
   "cell_type": "code",
   "execution_count": 39,
   "metadata": {},
   "outputs": [
    {
     "name": "stdout",
     "output_type": "stream",
     "text": [
      "False\n"
     ]
    }
   ],
   "source": [
    "def can_drink(age):\n",
    "    legal_age = 21\n",
    "    print(age >= legal_age);\n",
    "\n",
    "can_drink(18)"
   ]
  },
  {
   "cell_type": "code",
   "execution_count": 40,
   "metadata": {},
   "outputs": [
    {
     "name": "stdout",
     "output_type": "stream",
     "text": [
      "10\n"
     ]
    }
   ],
   "source": [
    "def giveMeTen():\n",
    "    return 10\n",
    "\n",
    "print(giveMeTen())"
   ]
  },
  {
   "cell_type": "code",
   "execution_count": 41,
   "metadata": {},
   "outputs": [
    {
     "name": "stdout",
     "output_type": "stream",
     "text": [
      "Do I have a lot of subscriptions?: True\n"
     ]
    }
   ],
   "source": [
    "def check_subscriptions(subs):\n",
    "    many_payments = subs > 3\n",
    "    return many_payments\n",
    "\n",
    "print(f\"Do I have a lot of subscriptions?: {check_subscriptions(9)}\")\n",
    "    \n",
    "    "
   ]
  },
  {
   "cell_type": "code",
   "execution_count": 43,
   "metadata": {},
   "outputs": [
    {
     "name": "stdout",
     "output_type": "stream",
     "text": [
      "On guitar: Lemmy\n",
      "On drums: Fats McKenzie\n",
      "On bass: Jim\n"
     ]
    }
   ],
   "source": [
    "def call_band_members(guitar, bass, drums):\n",
    "    print(\"On guitar: \" + guitar)\n",
    "    print(\"On drums: \" + drums)\n",
    "    print(\"On bass: \" + bass)\n",
    "    \n",
    "call_band_members(\"Lemmy\", \"Jim\", \"Fats McKenzie\")"
   ]
  },
  {
   "cell_type": "code",
   "execution_count": 45,
   "metadata": {},
   "outputs": [
    {
     "name": "stdout",
     "output_type": "stream",
     "text": [
      "True\n"
     ]
    }
   ],
   "source": [
    "def is_an_adult(age):\n",
    "    return age >= 18\n",
    "\n",
    "is_adulting = is_an_adult(24)\n",
    "print(is_adulting)"
   ]
  },
  {
   "cell_type": "code",
   "execution_count": 47,
   "metadata": {},
   "outputs": [
    {
     "name": "stdout",
     "output_type": "stream",
     "text": [
      "False\n"
     ]
    }
   ],
   "source": [
    "def is_same_number(number_1, number_2):\n",
    "    print(number_1 == number_2)\n",
    "\n",
    "is_same_number(5, 6)"
   ]
  },
  {
   "cell_type": "code",
   "execution_count": 49,
   "metadata": {},
   "outputs": [
    {
     "name": "stdout",
     "output_type": "stream",
     "text": [
      "You will survive the apocalypse\n"
     ]
    }
   ],
   "source": [
    "def will_live(survivability):\n",
    "    if survivability >= 80:\n",
    "        print(\"You will survive the apocalypse\")\n",
    "    else:\n",
    "        print(\"You gonna die :( \")\n",
    "will_live(83)"
   ]
  },
  {
   "cell_type": "code",
   "execution_count": 6,
   "metadata": {},
   "outputs": [
    {
     "name": "stdout",
     "output_type": "stream",
     "text": [
      "They all arrive at once! The boys!!\n",
      "----------------------------------------\n",
      "The Boys!! What's good, Jacob?\n",
      "The Boys!! What's good, Liston?\n",
      "The Boys!! What's good, Petey?\n",
      "It's Kyle! He's a dingus! Get em' outta here!\n",
      "The Boys!! What's good, Mike?\n",
      "The Boys!! What's good, Collin?\n"
     ]
    }
   ],
   "source": [
    "def call_the_boys(name):\n",
    "    if name == \"Kyle\":\n",
    "        print(\"It's Kyle! He's a dingus! Get em' outta here!\")\n",
    "    else:\n",
    "        print(f\"The Boys!! What's good, {name}?\")\n",
    "\n",
    "print(\"They all arrive at once! The boys!!\")\n",
    "print(\"----------------------------------------\")\n",
    "\n",
    "call_the_boys(\"Jacob\", )\n",
    "call_the_boys(\"Liston\")\n",
    "call_the_boys(\"Petey\")\n",
    "call_the_boys(\"Kyle\")\n",
    "call_the_boys(\"Mike\")\n",
    "call_the_boys(\"Collin\")"
   ]
  },
  {
   "cell_type": "code",
   "execution_count": null,
   "metadata": {},
   "outputs": [],
   "source": []
  }
 ],
 "metadata": {
  "kernelspec": {
   "display_name": "Python 3",
   "language": "python",
   "name": "python3"
  },
  "language_info": {
   "codemirror_mode": {
    "name": "ipython",
    "version": 3
   },
   "file_extension": ".py",
   "mimetype": "text/x-python",
   "name": "python",
   "nbconvert_exporter": "python",
   "pygments_lexer": "ipython3",
   "version": "3.7.4"
  }
 },
 "nbformat": 4,
 "nbformat_minor": 2
}

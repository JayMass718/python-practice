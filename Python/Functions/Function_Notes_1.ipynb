{
 "cells": [
  {
   "cell_type": "code",
   "execution_count": 2,
   "metadata": {},
   "outputs": [
    {
     "name": "stdout",
     "output_type": "stream",
     "text": [
      "Our Protein:\n",
      "------------\n",
      "['Chicken', 'Steak', 'Fish', 'Vegan Meat']\n"
     ]
    }
   ],
   "source": [
    "def display_inventory(protein):\n",
    "    print(\"Our Protein:\")\n",
    "    print(\"------------\")\n",
    "    print(protein)\n",
    "\n",
    "protein_list = [\"Chicken\", \"Steak\", \"Fish\", \"Vegan Meat\"]\n",
    "display_inventory(protein_list)"
   ]
  },
  {
   "cell_type": "code",
   "execution_count": 4,
   "metadata": {},
   "outputs": [
    {
     "name": "stdout",
     "output_type": "stream",
     "text": [
      "5\n"
     ]
    }
   ],
   "source": [
    "def count_customers(customers):\n",
    "    print(len(customers))\n",
    "\n",
    "customers = [\"Sarah\", \"Jason\", \"Little Richie\", \"Samson\", \"David Kim\"]\n",
    "count_customers(customers)"
   ]
  },
  {
   "cell_type": "code",
   "execution_count": 9,
   "metadata": {},
   "outputs": [
    {
     "name": "stdout",
     "output_type": "stream",
     "text": [
      "Are there rooms available?\n",
      "----------------------\n",
      "No, sorry...\n"
     ]
    }
   ],
   "source": [
    "#I like this function! Checks to see if rooms are available at motel...\n",
    "\n",
    "def is_vacant(occupied_list):\n",
    "    print(\"Are there rooms available?\")\n",
    "    print(\"----------------------\")\n",
    "    if (len(occupied_list) < 6):\n",
    "        print(\"Yes!\")\n",
    "    else:\n",
    "        print(\"No, sorry...\")\n",
    "\n",
    "occupied_list = [\"Richard\", \"Papa\", \"Samson\", \"Cory\", \"Fats\", \"Kimmy\"]\n",
    "is_vacant(occupied_list)"
   ]
  },
  {
   "cell_type": "code",
   "execution_count": 10,
   "metadata": {},
   "outputs": [
    {
     "name": "stdout",
     "output_type": "stream",
     "text": [
      "Game winner: Jake\n"
     ]
    }
   ],
   "source": [
    "def get_first(gamers):\n",
    "    winner = gamers[0]\n",
    "    print(f\"Game winner: {winner}\")\n",
    "\n",
    "gamers = [\"Jake\", \"Larry\", \"Patrick\"]\n",
    "get_first(gamers)"
   ]
  },
  {
   "cell_type": "code",
   "execution_count": 16,
   "metadata": {},
   "outputs": [
    {
     "name": "stdout",
     "output_type": "stream",
     "text": [
      "Scoreboard Update! New Leader: Big Man\n"
     ]
    },
    {
     "data": {
      "text/plain": [
       "\"Scoreboard: ['Big Man', 'Sammy', 'Jerk', 'Little']\""
      ]
     },
     "execution_count": 16,
     "metadata": {},
     "output_type": "execute_result"
    }
   ],
   "source": [
    "def update_leader(leaderboard, new_leader):\n",
    "    print(f\"Scoreboard Update! New Leader: {new_leader}\")\n",
    "    leaderboard[0] = new_leader\n",
    "    return f\"Scoreboard: {leaderboard}\"\n",
    "\n",
    "leaderboard = [\"Kid\", \"Sammy\", \"Jerk\", \"Little\"]\n",
    "new_leader = \"Big Man\"\n",
    "update_leader(leaderboard, new_leader)\n"
   ]
  },
  {
   "cell_type": "code",
   "execution_count": 21,
   "metadata": {},
   "outputs": [
    {
     "name": "stdout",
     "output_type": "stream",
     "text": [
      "Crewmember #1 has arrived\n",
      "Crewmember #2 has arrived\n",
      "Crewmember #3 has arrived\n",
      "Crewmember #4 has arrived\n",
      "Crewmember #5 has arrived\n"
     ]
    }
   ],
   "source": [
    "def arriving_crewmembers(arrivals):\n",
    "    counter = 1\n",
    "    while counter <= arrivals:\n",
    "        print(f\"Crewmember #{counter} has arrived\")\n",
    "        counter += 1\n",
    "    \n",
    "arriving_crewmembers(5)"
   ]
  },
  {
   "cell_type": "code",
   "execution_count": 22,
   "metadata": {},
   "outputs": [
    {
     "name": "stdout",
     "output_type": "stream",
     "text": [
      "downloading file 0 out of 5\n",
      "downloading file 1 out of 5\n",
      "downloading file 2 out of 5\n",
      "downloading file 3 out of 5\n",
      "downloading file 4 out of 5\n"
     ]
    }
   ],
   "source": [
    "def display_progress(total_files):\n",
    "    for file in range(total_files):\n",
    "        print(f\"downloading file {file} out of {total_files}\")\n",
    "\n",
    "display_progress(5)\n",
    "            \n",
    "            "
   ]
  },
  {
   "cell_type": "code",
   "execution_count": 40,
   "metadata": {},
   "outputs": [
    {
     "name": "stdout",
     "output_type": "stream",
     "text": [
      "I love mah girl. She is my world!\n",
      "I love mah girl. She is my world!\n",
      "I love mah girl. She is my world!\n",
      "I love mah girl. She is my world!\n",
      "I love mah girl. She is my world!\n"
     ]
    }
   ],
   "source": [
    "def display_love_statement(statements):\n",
    "    counter = 0\n",
    "    while counter < statements:\n",
    "        print(\"I love mah girl. She is my world!\")\n",
    "        counter += 1\n",
    "\n",
    "display_love_statement(5)"
   ]
  },
  {
   "cell_type": "code",
   "execution_count": 57,
   "metadata": {},
   "outputs": [
    {
     "name": "stdout",
     "output_type": "stream",
     "text": [
      "Sales Price: $4.5\n",
      "Sales Price: $5.0\n",
      "Sales Price: $6.5\n",
      "------------\n",
      "Sales Price: $9.0\n",
      "Sales Price: $8.5\n",
      "Sales Price: $4.0\n"
     ]
    }
   ],
   "source": [
    "def discount_flowers(flower_cart):\n",
    "    for price in flower_cart:\n",
    "        print(f\"Sales Price: ${price/2}\")\n",
    "\n",
    "flower_cart = [9, 10, 13]\n",
    "flower_cart_2 = [18, 17, 8]\n",
    "discount_flowers(flower_cart)\n",
    "print(\"------------\")\n",
    "discount_flowers(flower_cart_2)"
   ]
  },
  {
   "cell_type": "code",
   "execution_count": 46,
   "metadata": {},
   "outputs": [
    {
     "name": "stdout",
     "output_type": "stream",
     "text": [
      "***\n",
      "***\n",
      "***\n",
      "***\n",
      "***\n"
     ]
    }
   ],
   "source": [
    "def make_stars(number):\n",
    "    for n in range(number):\n",
    "        print(\"***\")\n",
    "\n",
    "make_stars(5)"
   ]
  },
  {
   "cell_type": "code",
   "execution_count": 61,
   "metadata": {},
   "outputs": [
    {
     "name": "stdout",
     "output_type": "stream",
     "text": [
      "New Group Formed: ['Rus: Healer', 'Tate: DPS', 'Tanker: DPS', 'Flipper: DPS', 'leeroy Jenkins: Tank']\n"
     ]
    }
   ],
   "source": [
    "def create_group(group_members, group_roles):\n",
    "    group = []\n",
    "    index = 0\n",
    "    \n",
    "    while index < len(group_members):\n",
    "        member_profile = group_members[index] + \": \" + group_roles[index]\n",
    "        group.append(member_profile)\n",
    "        index += 1\n",
    "    \n",
    "    return group\n",
    "\n",
    "group_members = [\"Rus\", \"Tate\", \"Tanker\", \"Flipper\", \"leeroy Jenkins\"]\n",
    "group_roles = [\"Healer\", \"DPS\", \"DPS\", \"DPS\", \"Tank\"]\n",
    "group_bio = create_group(group_members, group_roles)\n",
    "print(f\"New Group Formed: {group_bio}\")\n",
    "        \n",
    "        "
   ]
  },
  {
   "cell_type": "code",
   "execution_count": 76,
   "metadata": {},
   "outputs": [],
   "source": [
    "def is_leap(year):\n",
    "    leap = False\n",
    "    if year % 4 == 0:\n",
    "        leap = True\n",
    "    elif year % 100 == 0:\n",
    "        leap = False\n",
    "    elif year % 400 == 0:\n",
    "\n",
    "    # Write your logic here\n",
    "    # year % 4 = 0 - leap year\n",
    "    # year % 100 = 0 - not a leap year\n",
    "        # unless year % 400 = 0\n",
    "    return leap\n",
    "\n",
    "year = 505\n",
    "is_leap(year)"
   ]
  },
  {
   "cell_type": "code",
   "execution_count": 73,
   "metadata": {},
   "outputs": [
    {
     "data": {
      "text/plain": [
       "False"
      ]
     },
     "execution_count": 73,
     "metadata": {},
     "output_type": "execute_result"
    }
   ],
   "source": [
    "def is_leap(year):\n",
    "    return year % 4 == 0 and (year % 400 == 0 or year % 100 != 0)\n",
    "\n",
    "year = 505\n",
    "is_leap(2100)"
   ]
  },
  {
   "cell_type": "code",
   "execution_count": 74,
   "metadata": {},
   "outputs": [
    {
     "data": {
      "text/plain": [
       "False"
      ]
     },
     "execution_count": 74,
     "metadata": {},
     "output_type": "execute_result"
    }
   ],
   "source": [
    "def is_leap(year):\n",
    "    leap = False\n",
    "    \n",
    "    # Write your logic here\n",
    "    if year % 4 == 0:\n",
    "        leap = True\n",
    "        if year % 100 == 0:\n",
    "            leap = False\n",
    "        if year % 400 == 0:\n",
    "            leap = True\n",
    "\n",
    "    return leap\n",
    "is_leap(1990)"
   ]
  },
  {
   "cell_type": "code",
   "execution_count": 84,
   "metadata": {},
   "outputs": [
    {
     "ename": "TypeError",
     "evalue": "list_numbers() takes 1 positional argument but 2 were given",
     "output_type": "error",
     "traceback": [
      "\u001b[0;31m---------------------------------------------------------------------------\u001b[0m",
      "\u001b[0;31mTypeError\u001b[0m                                 Traceback (most recent call last)",
      "\u001b[0;32m<ipython-input-84-97c622086e47>\u001b[0m in \u001b[0;36m<module>\u001b[0;34m\u001b[0m\n\u001b[1;32m      9\u001b[0m     \u001b[0;32mreturn\u001b[0m \u001b[0mgroup\u001b[0m\u001b[0;34m\u001b[0m\u001b[0;34m\u001b[0m\u001b[0m\n\u001b[1;32m     10\u001b[0m \u001b[0;34m\u001b[0m\u001b[0m\n\u001b[0;32m---> 11\u001b[0;31m \u001b[0mlist_numbers\u001b[0m\u001b[0;34m(\u001b[0m\u001b[0;34m\"5\"\u001b[0m\u001b[0;34m,\u001b[0m \u001b[0;34m\"3\"\u001b[0m\u001b[0;34m)\u001b[0m\u001b[0;34m\u001b[0m\u001b[0;34m\u001b[0m\u001b[0m\n\u001b[0m",
      "\u001b[0;31mTypeError\u001b[0m: list_numbers() takes 1 positional argument but 2 were given"
     ]
    }
   ],
   "source": [
    "def list_numbers(number):\n",
    "    group = []\n",
    "    index = 0\n",
    "    \n",
    "    while index < len(number):\n",
    "        number_list = number[index]\n",
    "        group.append(number_list)\n",
    "        index += 1\n",
    "    return group\n",
    "\n",
    "list_numbers(\"5\", \"3\")"
   ]
  },
  {
   "cell_type": "code",
   "execution_count": 87,
   "metadata": {},
   "outputs": [
    {
     "name": "stdout",
     "output_type": "stream",
     "text": [
      "1\n"
     ]
    }
   ],
   "source": [
    "var1, var2, var3 = 1,2,3\n",
    "print(var1)"
   ]
  },
  {
   "cell_type": "code",
   "execution_count": 113,
   "metadata": {},
   "outputs": [
    {
     "name": "stdout",
     "output_type": "stream",
     "text": [
      "1\n",
      "2\n",
      "3\n",
      "4\n"
     ]
    }
   ],
   "source": [
    "n = 4\n",
    "for i in range(1, n+1):\n",
    "    print (i)\n"
   ]
  },
  {
   "cell_type": "code",
   "execution_count": 125,
   "metadata": {},
   "outputs": [
    {
     "name": "stdout",
     "output_type": "stream",
     "text": [
      "123456789"
     ]
    }
   ],
   "source": [
    "def print_numbers(number):\n",
    "    for i in range(1, number+1):\n",
    "        print (i, end='')\n",
    "\n",
    "print_numbers(9)\n"
   ]
  },
  {
   "cell_type": "code",
   "execution_count": null,
   "metadata": {},
   "outputs": [],
   "source": []
  }
 ],
 "metadata": {
  "kernelspec": {
   "display_name": "Python 3",
   "language": "python",
   "name": "python3"
  },
  "language_info": {
   "codemirror_mode": {
    "name": "ipython",
    "version": 3
   },
   "file_extension": ".py",
   "mimetype": "text/x-python",
   "name": "python",
   "nbconvert_exporter": "python",
   "pygments_lexer": "ipython3",
   "version": "3.7.4"
  }
 },
 "nbformat": 4,
 "nbformat_minor": 2
}

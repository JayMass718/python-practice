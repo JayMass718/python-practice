{
 "cells": [
  {
   "cell_type": "code",
   "execution_count": 5,
   "metadata": {},
   "outputs": [
    {
     "name": "stdout",
     "output_type": "stream",
     "text": [
      "Video games are fun, especially GTA5! I love that game!!\n"
     ]
    }
   ],
   "source": [
    "#Using Classes\n",
    "\n",
    "class Game:\n",
    "    favorite_game = \"GTA5\"\n",
    "    console = \"XBox\"\n",
    "    gamer = True\n",
    "    print(f\"Video games are fun, especially {favorite_game}! I love that game!!\")"
   ]
  },
  {
   "cell_type": "code",
   "execution_count": 15,
   "metadata": {},
   "outputs": [
    {
     "name": "stdout",
     "output_type": "stream",
     "text": [
      "MoonUltra\n",
      "Gamer rank is 100\n"
     ]
    }
   ],
   "source": [
    "#Creating Instances\n",
    "\n",
    "#definition\n",
    "class Gamer_Profile:\n",
    "    gamer_name = \"MoonUltra\"\n",
    "    gamer_rank = 100\n",
    "    is_online = True\n",
    "\n",
    "#instance\n",
    "Julian_profile = Gamer_Profile()\n",
    "\n",
    "#how to access the definition\n",
    "print(Julian_profile.gamer_name)\n",
    "print(f\"Gamer rank is {Julian_profile.gamer_rank}\")"
   ]
  },
  {
   "cell_type": "code",
   "execution_count": 19,
   "metadata": {},
   "outputs": [
    {
     "name": "stdout",
     "output_type": "stream",
     "text": [
      "My Favorite games on Xbox: ['GTAV', \"Assassin's Creed\", 'Red Dead Redemption 2']\n",
      "My Favorite game of them all: GTAV\n"
     ]
    }
   ],
   "source": [
    "class Best_Games:\n",
    "    system = \"Xbox\"\n",
    "    games = [\"GTAV\", \"Assassin's Creed\", \"Red Dead Redemption 2\"]\n",
    "    \n",
    "best_games = Best_Games()\n",
    "print(f\"My Favorite games on {best_games.system}: {best_games.games}\")\n",
    "print(f\"My Favorite game of them all: {best_games.games[0]}\")"
   ]
  },
  {
   "cell_type": "code",
   "execution_count": 35,
   "metadata": {},
   "outputs": [
    {
     "name": "stdout",
     "output_type": "stream",
     "text": [
      "Logging on...\n",
      "You are now Online. Welcome, MoonUltra.\n"
     ]
    }
   ],
   "source": [
    "#Classes with Methods\n",
    "\n",
    "class Gamer_Profile:\n",
    "    gamer_name = \"MoonUltra\"\n",
    "    gamer_rank = 100\n",
    "    is_online = True\n",
    "    \n",
    "    def logging_on(self):\n",
    "        if self.is_online == True:\n",
    "            print(\"Logging on...\")\n",
    "            print(\"You are now Online. Welcome, \" + self.gamer_name + \".\")\n",
    "        else:\n",
    "            print(\"You are not online right now.\")\n",
    "\n",
    "Julian_profile = Gamer_Profile()\n",
    "\n",
    "#Calling the method...\n",
    "Julian_profile.logging_on()"
   ]
  },
  {
   "cell_type": "code",
   "execution_count": 46,
   "metadata": {},
   "outputs": [
    {
     "name": "stdout",
     "output_type": "stream",
     "text": [
      "Cardio\n",
      "Plan type is now BodyBuilding.\n",
      "Get Er' done!!\n"
     ]
    }
   ],
   "source": [
    "# Methods making changes\n",
    "\n",
    "class Workout_Plan:\n",
    "    plan_type = \"Cardio\"\n",
    "    diet = \"Paleo\"\n",
    "    amount_of_days = 5\n",
    "    is_active = True\n",
    "    \n",
    "    def workout_specs(self):\n",
    "        print(self.plan_type)\n",
    "        print(self.diet)\n",
    "        print(self.amount_of_days)\n",
    "    \n",
    "    def change_plan_type(self, new_plan_type):\n",
    "        self.plan_type = new_plan_type\n",
    "        print(\"Plan type is now \" + self.plan_type + \".\")\n",
    "        return \"Get Er' done!!\"\n",
    "\n",
    "workout_plan = Workout_Plan()\n",
    "\n",
    "print(workout_plan.plan_type)\n",
    "print(workout_plan.change_plan_type(\"BodyBuilding\"))"
   ]
  },
  {
   "cell_type": "code",
   "execution_count": 60,
   "metadata": {},
   "outputs": [
    {
     "name": "stdout",
     "output_type": "stream",
     "text": [
      "GTA5 Xbox\n"
     ]
    }
   ],
   "source": [
    "#Constructors!\n",
    "class Gamer_Preference:\n",
    "    def __init__(self, gaming_system, game):\n",
    "        self.gaming_system = gaming_system\n",
    "        self.game = game\n",
    "\n",
    "Julian = Gamer_Preference(\"Xbox\", \"GTA5\")\n",
    "print(Julian.game, Julian.gaming_system)"
   ]
  },
  {
   "cell_type": "code",
   "execution_count": 61,
   "metadata": {},
   "outputs": [
    {
     "name": "stdout",
     "output_type": "stream",
     "text": [
      "You have Math at 2:15pm\n"
     ]
    }
   ],
   "source": [
    "class College:\n",
    "    def __init__(self, subject, time):\n",
    "        self.subject = subject\n",
    "        self.time = time\n",
    "        print(\"You have\", self.subject, \"at\", self.time)\n",
    "        \n",
    "math = College(\"Math\", \"2:15pm\")"
   ]
  },
  {
   "cell_type": "code",
   "execution_count": null,
   "metadata": {},
   "outputs": [],
   "source": []
  }
 ],
 "metadata": {
  "kernelspec": {
   "display_name": "Python 3",
   "language": "python",
   "name": "python3"
  },
  "language_info": {
   "codemirror_mode": {
    "name": "ipython",
    "version": 3
   },
   "file_extension": ".py",
   "mimetype": "text/x-python",
   "name": "python",
   "nbconvert_exporter": "python",
   "pygments_lexer": "ipython3",
   "version": "3.7.4"
  }
 },
 "nbformat": 4,
 "nbformat_minor": 2
}
